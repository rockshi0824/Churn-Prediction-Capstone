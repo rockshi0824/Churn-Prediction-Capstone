{
 "cells": [
  {
   "cell_type": "markdown",
   "id": "refined-architecture",
   "metadata": {},
   "source": [
    "#### Rock Shi Churn Prediction Capstone"
   ]
  },
  {
   "cell_type": "code",
   "execution_count": 1,
   "id": "heated-economics",
   "metadata": {},
   "outputs": [],
   "source": [
    "# Importing all packages needed\n",
    "\n",
    "from pyspark.sql import SparkSession\n",
    "from pyspark.ml import Pipeline\n",
    "from pyspark.ml.classification import RandomForestClassifier\n",
    "from pyspark.ml.evaluation import MulticlassClassificationEvaluator\n",
    "from pyspark.ml.feature import StringIndexer\n",
    "from pyspark.ml.feature import VectorAssembler\n",
    "from pyspark.ml.tuning import CrossValidator, ParamGridBuilder\n",
    "import numpy as np\n",
    "import pandas as pd\n",
    "import matplotlib.pyplot as plt\n",
    "import seaborn as sns\n",
    "from pyspark import SparkContext, SparkConf\n",
    "from pyspark.sql.functions import when\n",
    "from pyspark.mllib.stat import Statistics\n",
    "from pyspark.sql.functions import *\n",
    "from pyspark.ml.feature import Imputer\n",
    "from pyspark.ml.feature import StandardScaler\n",
    "from sklearn.metrics import confusion_matrix\n",
    "from pyspark.sql.types import *"
   ]
  },
  {
   "cell_type": "code",
   "execution_count": 2,
   "id": "legitimate-winning",
   "metadata": {},
   "outputs": [],
   "source": [
    "# Reading in train and test datasets from hadoop\n",
    "churn_train = spark.read.csv('/spark/input/churn-bigml-80.csv', inferSchema = True, header = True)\n",
    "churn_test = spark.read.csv('/spark/input/churn-bigml-20.csv', inferSchema = True, header = True)"
   ]
  },
  {
   "cell_type": "code",
   "execution_count": 3,
   "id": "touched-money",
   "metadata": {
    "collapsed": true
   },
   "outputs": [
    {
     "name": "stdout",
     "output_type": "stream",
     "text": [
      "+-----+--------------+---------+------------------+---------------+---------------------+-----------------+---------------+----------------+-----------------+---------------+----------------+-------------------+-----------------+------------------+------------------+----------------+-----------------+----------------------+-----+\n",
      "|State|Account length|Area code|International plan|Voice mail plan|Number vmail messages|Total day minutes|Total day calls|Total day charge|Total eve minutes|Total eve calls|Total eve charge|Total night minutes|Total night calls|Total night charge|Total intl minutes|Total intl calls|Total intl charge|Customer service calls|Churn|\n",
      "+-----+--------------+---------+------------------+---------------+---------------------+-----------------+---------------+----------------+-----------------+---------------+----------------+-------------------+-----------------+------------------+------------------+----------------+-----------------+----------------------+-----+\n",
      "|   KS|           128|      415|                No|            Yes|                   25|            265.1|            110|           45.07|            197.4|             99|           16.78|              244.7|               91|             11.01|              10.0|               3|              2.7|                     1|false|\n",
      "|   OH|           107|      415|                No|            Yes|                   26|            161.6|            123|           27.47|            195.5|            103|           16.62|              254.4|              103|             11.45|              13.7|               3|              3.7|                     1|false|\n",
      "|   NJ|           137|      415|                No|             No|                    0|            243.4|            114|           41.38|            121.2|            110|            10.3|              162.6|              104|              7.32|              12.2|               5|             3.29|                     0|false|\n",
      "|   OH|            84|      408|               Yes|             No|                    0|            299.4|             71|            50.9|             61.9|             88|            5.26|              196.9|               89|              8.86|               6.6|               7|             1.78|                     2|false|\n",
      "|   OK|            75|      415|               Yes|             No|                    0|            166.7|            113|           28.34|            148.3|            122|           12.61|              186.9|              121|              8.41|              10.1|               3|             2.73|                     3|false|\n",
      "+-----+--------------+---------+------------------+---------------+---------------------+-----------------+---------------+----------------+-----------------+---------------+----------------+-------------------+-----------------+------------------+------------------+----------------+-----------------+----------------------+-----+\n",
      "only showing top 5 rows\n",
      "\n"
     ]
    }
   ],
   "source": [
    "# Displaying first five rows of train dataset\n",
    "churn_train.show(5)"
   ]
  },
  {
   "cell_type": "code",
   "execution_count": null,
   "id": "sharing-behavior",
   "metadata": {},
   "outputs": [],
   "source": []
  }
 ],
 "metadata": {
  "kernelspec": {
   "display_name": "Python 3",
   "language": "python",
   "name": "python3"
  },
  "language_info": {
   "codemirror_mode": {
    "name": "ipython",
    "version": 3
   },
   "file_extension": ".py",
   "mimetype": "text/x-python",
   "name": "python",
   "nbconvert_exporter": "python",
   "pygments_lexer": "ipython3",
   "version": "3.5.2"
  }
 },
 "nbformat": 4,
 "nbformat_minor": 5
}
